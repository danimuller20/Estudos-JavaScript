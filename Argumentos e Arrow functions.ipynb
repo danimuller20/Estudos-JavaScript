{
 "cells": [
  {
   "cell_type": "markdown",
   "metadata": {},
   "source": [
    "# Objeto de argumento"
   ]
  },
  {
   "cell_type": "code",
   "execution_count": 6,
   "metadata": {},
   "outputs": [
    {
     "data": {
      "text/plain": [
       "'red, orange, blue, '"
      ]
     },
     "execution_count": 6,
     "metadata": {},
     "output_type": "execute_result"
    }
   ],
   "source": [
    "function myConcat(separador) {\n",
    "    var result = \"\", i; // Inicializa a lista\n",
    "        \n",
    "    // iterpa por meio de argumentos\n",
    "    for (i = 1; i < arguments.length; i++) {\n",
    "        result += arguments[i] + separador;\n",
    "    } \n",
    "    return result;\n",
    "}\n",
    "\n",
    "myConcat(\", \", \"red\", \"orange\", \"blue\");"
   ]
  },
  {
   "cell_type": "markdown",
   "metadata": {},
   "source": [
    "# Parmetros de função"
   ]
  },
  {
   "cell_type": "code",
   "execution_count": 14,
   "metadata": {},
   "outputs": [
    {
     "name": "stdout",
     "output_type": "stream",
     "text": [
      "5\n"
     ]
    }
   ],
   "source": [
    "function multiplicar(a,b = 1) {\n",
    "    return a*b;\n",
    "}\n",
    "console.log(multiplicar(5));"
   ]
  },
  {
   "cell_type": "markdown",
   "metadata": {},
   "source": [
    "# Funções curtas"
   ]
  },
  {
   "cell_type": "code",
   "execution_count": 20,
   "metadata": {},
   "outputs": [
    {
     "name": "stdout",
     "output_type": "stream",
     "text": [
      "[ 8, 6, 7, 9 ]\n",
      "[ 8, 6, 7, 9 ]\n"
     ]
    }
   ],
   "source": [
    "var a = [\n",
    "    \"Hydrogen\",\n",
    "    \"Helium\",\n",
    "    \"Lithium\",\n",
    "    \"Beryllium\"\n",
    "];\n",
    "\n",
    "var a1 = a.map(s => s.length ); // Função anonima\n",
    "var a2 = a.map(function(s){return s.length});\n",
    "\n",
    "\n",
    "console.log(a1)\n",
    "console.log(a2)"
   ]
  },
  {
   "cell_type": "markdown",
   "metadata": {},
   "source": [
    "# This"
   ]
  },
  {
   "cell_type": "code",
   "execution_count": 22,
   "metadata": {},
   "outputs": [
    {
     "data": {
      "text/plain": [
       "Pessoa { idade: 0 }"
      ]
     },
     "execution_count": 22,
     "metadata": {},
     "output_type": "execute_result"
    }
   ],
   "source": [
    "function Pessoa() {\n",
    "    this.idade = 0;\n",
    "    \n",
    "    setInterval(() => {\n",
    "        this.idade++; // propriedade \"this\"refere ao objeto pessoa\n",
    "    }, 100);\n",
    "}\n",
    "varp = new Pessoa();"
   ]
  }
 ],
 "metadata": {
  "kernelspec": {
   "display_name": "Javascript (Node.js)",
   "language": "javascript",
   "name": "javascript"
  },
  "language_info": {
   "file_extension": ".js",
   "mimetype": "application/javascript",
   "name": "javascript",
   "version": "10.13.0"
  }
 },
 "nbformat": 4,
 "nbformat_minor": 2
}
