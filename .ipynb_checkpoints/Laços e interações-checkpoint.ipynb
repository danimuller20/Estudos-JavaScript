{
 "cells": [
  {
   "cell_type": "markdown",
   "metadata": {},
   "source": [
    "# Loop for"
   ]
  },
  {
   "cell_type": "code",
   "execution_count": 13,
   "metadata": {},
   "outputs": [
    {
     "name": "stdout",
     "output_type": "stream",
     "text": [
      "O valor atual de i é: 0\n",
      "O valor atual de i é: 1\n",
      "O valor atual de i é: 2\n",
      "O valor atual de i é: 3\n",
      "O valor atual de i é: 4\n",
      "O valor atual de i é: 5\n",
      "O valor atual de i é: 6\n",
      "O valor atual de i é: 7\n",
      "O valor atual de i é: 8\n",
      "O valor atual de i é: 9\n",
      "O valor atual de i é: 11\n",
      "O valor atual de i é: 12\n",
      "O valor atual de i é: 13\n",
      "O valor atual de i é: 14\n",
      "O valor atual de i é: 15\n",
      "O valor atual de i é: 16\n",
      "O valor atual de i é: 17\n",
      "O valor atual de i é: 18\n",
      "O valor atual de i é: 19\n"
     ]
    }
   ],
   "source": [
    "var i = 0;\n",
    "var j = 20;\n",
    "\n",
    "for(i=0; i<j; i++){\n",
    "    \n",
    "    if(i==10){\n",
    "        continue; //pular a opção que está no \"if\".\n",
    "    }\n",
    "    console.log('O valor atual de i é: ' +i)\n",
    "}"
   ]
  },
  {
   "cell_type": "markdown",
   "metadata": {},
   "source": [
    "# Do while\n",
    "\n"
   ]
  },
  {
   "cell_type": "code",
   "execution_count": 18,
   "metadata": {},
   "outputs": [
    {
     "name": "stdout",
     "output_type": "stream",
     "text": [
      "10\n",
      "9\n",
      "8\n",
      "7\n",
      "6\n",
      "5\n",
      "4\n",
      "3\n",
      "2\n",
      "1\n",
      "0\n"
     ]
    },
    {
     "data": {
      "text/plain": [
       "0"
      ]
     },
     "execution_count": 18,
     "metadata": {},
     "output_type": "execute_result"
    }
   ],
   "source": [
    "var i = 10;\n",
    "\n",
    "do{\n",
    "    console.log(i);\n",
    "        i--;\n",
    "}while(i>=0);"
   ]
  },
  {
   "cell_type": "code",
   "execution_count": 21,
   "metadata": {},
   "outputs": [
    {
     "name": "stdout",
     "output_type": "stream",
     "text": [
      "Executou\n"
     ]
    }
   ],
   "source": [
    "\n",
    "qvar i = 10;\n",
    "\n",
    "dbo\n",
    "    console.log('Executou')\n",
    "while(i==11);"
   ]
  },
  {
   "cell_type": "markdown",
   "metadata": {},
   "source": [
    "# While"
   ]
  },
  {
   "cell_type": "code",
   "execution_count": 1,
   "metadata": {},
   "outputs": [
    {
     "name": "stdout",
     "output_type": "stream",
     "text": [
      "Olá Mundo:0\n",
      "Olá Mundo:1\n",
      "Olá Mundo:2\n",
      "Olá Mundo:3\n",
      "Olá Mundo:4\n",
      "Olá Mundo:5\n",
      "Olá Mundo:6\n",
      "Olá Mundo:7\n",
      "Olá Mundo:8\n",
      "Olá Mundo:9\n"
     ]
    },
    {
     "data": {
      "text/plain": [
       "9"
      ]
     },
     "execution_count": 1,
     "metadata": {},
     "output_type": "execute_result"
    }
   ],
   "source": [
    "var i = 0;\n",
    "    \n",
    "    while(i < 10) {\n",
    "        console.log('Olá Mundo:' + i);\n",
    "        i++; //incrementação abaixo a contagem inicia em 0\n",
    "    }"
   ]
  },
  {
   "cell_type": "code",
   "execution_count": 2,
   "metadata": {},
   "outputs": [
    {
     "name": "stdout",
     "output_type": "stream",
     "text": [
      "Olá Mundo:1\n",
      "Olá Mundo:2\n",
      "Olá Mundo:3\n",
      "Olá Mundo:4\n",
      "Olá Mundo:5\n",
      "Olá Mundo:6\n",
      "Olá Mundo:7\n",
      "Olá Mundo:8\n",
      "Olá Mundo:9\n",
      "Olá Mundo:10\n"
     ]
    }
   ],
   "source": [
    "var i = 0;\n",
    "    \n",
    "    while(i < 10) {\n",
    "        i++; // incrementação acima a contagem inicia em 1\n",
    "        console.log('Olá Mundo:' + i);\n",
    "    }"
   ]
  },
  {
   "cell_type": "code",
   "execution_count": 3,
   "metadata": {},
   "outputs": [
    {
     "name": "stdout",
     "output_type": "stream",
     "text": [
      "Olá Mundo:0\n",
      "Olá Mundo:1\n",
      "Olá Mundo:3\n",
      "Olá Mundo:4\n",
      "Olá Mundo:5\n",
      "Olá Mundo:6\n",
      "Olá Mundo:7\n",
      "Olá Mundo:8\n",
      "Olá Mundo:9\n"
     ]
    },
    {
     "data": {
      "text/plain": [
       "9"
      ]
     },
     "execution_count": 3,
     "metadata": {},
     "output_type": "execute_result"
    }
   ],
   "source": [
    "var i = 0;\n",
    "    \n",
    "    while(i < 10){\n",
    "        if (i==2){ // valor de i = 2 é pulado\n",
    "            i++;\n",
    "            continue;\n",
    "        }\n",
    "        \n",
    "        console.log('Olá Mundo:' + i);\n",
    "        i++;\n",
    "    }"
   ]
  },
  {
   "cell_type": "markdown",
   "metadata": {},
   "source": [
    "# For in and For of"
   ]
  },
  {
   "cell_type": "code",
   "execution_count": 4,
   "metadata": {},
   "outputs": [
    {
     "name": "stdout",
     "output_type": "stream",
     "text": [
      "0\n",
      "1\n",
      "2\n",
      "João\n",
      "Maria\n",
      "José\n"
     ]
    }
   ],
   "source": [
    "var lista = ['João', 'Maria', 'José']\n",
    "\n",
    "for (item in lista) { //retorna a posisão dos elementos na lista\n",
    "        console.log(item);\n",
    "}\n",
    "\n",
    "for (item of lista) { //retorna os elementos da lista\n",
    "        console.log(item);\n",
    "}"
   ]
  },
  {
   "cell_type": "code",
   "execution_count": 11,
   "metadata": {},
   "outputs": [
    {
     "name": "stdout",
     "output_type": "stream",
     "text": [
      "João\n",
      "Maria\n",
      "José\n"
     ]
    }
   ],
   "source": [
    "var lista = ['João', 'Maria', 'José']\n",
    "\n",
    "for (item in lista) { \n",
    "        console.log(lista[item]);\n",
    "}"
   ]
  },
  {
   "cell_type": "code",
   "execution_count": 16,
   "metadata": {},
   "outputs": [
    {
     "name": "stdout",
     "output_type": "stream",
     "text": [
      "Cloves-30-600\n",
      "Daniela-29-500\n"
     ]
    }
   ],
   "source": [
    "var lista = [{nome:'Cloves', idade: 30, salario: 600 },\n",
    "            {nome: 'Daniela', idade: 29, salario: 500}]\n",
    "\n",
    "for (item of lista){\n",
    "    console.log(item.nome + '-' + item.idade + '-' + item.salario)\n",
    "}"
   ]
  },
  {
   "cell_type": "code",
   "execution_count": 17,
   "metadata": {},
   "outputs": [
    {
     "name": "stdout",
     "output_type": "stream",
     "text": [
      "0\n",
      "1\n",
      "2\n",
      "3\n",
      "4\n",
      "5\n",
      "6\n",
      "7\n",
      "8\n",
      "9\n",
      "10\n",
      "11\n",
      "12\n",
      "13\n",
      "14\n",
      "15\n",
      "16\n",
      "17\n",
      "18\n",
      "19\n"
     ]
    }
   ],
   "source": [
    "for (letra in 'Curso de Programação'){ //'in' retorna a posição dos elementos\n",
    "    console.log(letra)\n",
    "}"
   ]
  },
  {
   "cell_type": "code",
   "execution_count": 20,
   "metadata": {},
   "outputs": [
    {
     "name": "stdout",
     "output_type": "stream",
     "text": [
      "C\n",
      "u\n",
      "r\n",
      "s\n",
      "o\n",
      " \n",
      "d\n",
      "e\n",
      " \n",
      "P\n",
      "r\n",
      "o\n",
      "g\n",
      "r\n",
      "a\n",
      "m\n",
      "a\n",
      "ç\n",
      "ã\n",
      "o\n"
     ]
    }
   ],
   "source": [
    "for (letra of 'Curso de Programação'){ // 'of' retorna os caracteres da string\n",
    "    console.log(letra)\n",
    "}"
   ]
  },
  {
   "cell_type": "code",
   "execution_count": 27,
   "metadata": {},
   "outputs": [
    {
     "name": "stdout",
     "output_type": "stream",
     "text": [
      "C\n",
      "u\n",
      "r\n",
      "s\n",
      "o\n",
      " \n",
      "d\n",
      "e\n",
      " \n",
      "P\n",
      "r\n",
      "o\n",
      "g\n",
      "r\n",
      "a\n",
      "m\n",
      "a\n",
      "ç\n",
      "ã\n",
      "o\n"
     ]
    }
   ],
   "source": [
    "var str = 'Curso de Programação';\n",
    "for(var i=0; i< str.length; i++){\n",
    "    console.log(str[i]);\n",
    "}"
   ]
  },
  {
   "cell_type": "markdown",
   "metadata": {},
   "source": [
    "# Label and Break"
   ]
  },
  {
   "cell_type": "code",
   "execution_count": 29,
   "metadata": {},
   "outputs": [
    {
     "name": "stdout",
     "output_type": "stream",
     "text": [
      "0\n",
      "1\n",
      "2\n",
      "3\n",
      "4\n",
      "5\n",
      "6\n",
      "8\n",
      "9\n"
     ]
    }
   ],
   "source": [
    "for (var i=0; i<10; i++){\n",
    "    if(i===7)\n",
    "        continue; // valor de 'i===7' é pulado\n",
    "    console.log(i);\n",
    "}"
   ]
  },
  {
   "cell_type": "code",
   "execution_count": 31,
   "metadata": {},
   "outputs": [
    {
     "name": "stdout",
     "output_type": "stream",
     "text": [
      "0\n",
      "1\n",
      "2\n",
      "3\n",
      "4\n",
      "5\n",
      "6\n"
     ]
    }
   ],
   "source": [
    "for (var i=0; i<10; i++){\n",
    "    if(i===7)\n",
    "        break; // Corta a execusão do loop\n",
    "    console.log(i);\n",
    "}"
   ]
  },
  {
   "cell_type": "code",
   "execution_count": 3,
   "metadata": {},
   "outputs": [
    {
     "name": "stdout",
     "output_type": "stream",
     "text": [
      "Laço Exterior:0\n",
      "Laço Interior:1\n",
      "Laço Interior:2\n",
      "Laço Interior:3\n",
      "Laço Interior:4\n",
      "Laço Interior:5\n",
      "Laço Interior:6\n",
      "Laço Interior:7\n",
      "Laço Interior:8\n",
      "Laço Interior:9\n",
      "Laço Exterior:1\n",
      "Laço Interior:1\n",
      "Laço Interior:2\n",
      "Laço Interior:3\n",
      "Laço Interior:4\n",
      "Laço Interior:5\n",
      "Laço Interior:6\n",
      "Laço Interior:7\n",
      "Laço Interior:8\n",
      "Laço Interior:9\n",
      "Laço Exterior:2\n",
      "Laço Interior:1\n",
      "Laço Interior:2\n",
      "Laço Interior:3\n",
      "Laço Interior:4\n",
      "Laço Interior:5\n",
      "Laço Interior:6\n",
      "Laço Interior:7\n",
      "Laço Interior:8\n",
      "Laço Interior:9\n",
      "Laço Exterior:3\n",
      "Laço Interior:1\n",
      "Laço Interior:2\n",
      "Laço Interior:3\n",
      "Laço Interior:4\n",
      "Laço Interior:5\n",
      "Laço Interior:6\n",
      "Laço Interior:7\n",
      "Laço Interior:8\n",
      "Laço Interior:9\n",
      "Laço Exterior:4\n",
      "Laço Interior:1\n",
      "Laço Interior:2\n",
      "Laço Interior:3\n",
      "Laço Interior:4\n",
      "Laço Interior:5\n",
      "Laço Interior:6\n",
      "Laço Interior:7\n",
      "Laço Interior:8\n",
      "Laço Interior:9\n",
      "Laço Exterior:5\n",
      "Laço Interior:1\n",
      "Laço Interior:2\n",
      "Laço Interior:3\n",
      "Laço Interior:4\n",
      "Laço Interior:5\n",
      "Laço Interior:6\n",
      "Laço Interior:7\n",
      "Laço Interior:8\n",
      "Laço Interior:9\n",
      "Laço Exterior:6\n",
      "Laço Interior:1\n",
      "Laço Interior:2\n",
      "Laço Interior:3\n",
      "Laço Interior:4\n",
      "Laço Interior:5\n",
      "Laço Interior:6\n",
      "Laço Interior:7\n",
      "Laço Interior:8\n",
      "Laço Interior:9\n",
      "Laço Exterior:7\n",
      "Laço Interior:1\n",
      "Laço Interior:2\n",
      "Laço Interior:3\n",
      "Laço Interior:4\n",
      "Laço Interior:5\n",
      "Laço Interior:6\n",
      "Laço Interior:7\n",
      "Laço Interior:8\n",
      "Laço Interior:9\n",
      "Laço Exterior:8\n",
      "Laço Interior:1\n",
      "Laço Interior:2\n",
      "Laço Interior:3\n",
      "Laço Interior:4\n",
      "Laço Interior:5\n",
      "Laço Interior:6\n",
      "Laço Interior:7\n",
      "Laço Interior:8\n",
      "Laço Interior:9\n",
      "Laço Exterior:9\n",
      "Laço Interior:1\n",
      "Laço Interior:2\n",
      "Laço Interior:3\n",
      "Laço Interior:4\n",
      "Laço Interior:5\n",
      "Laço Interior:6\n",
      "Laço Interior:7\n",
      "Laço Interior:8\n",
      "Laço Interior:9\n"
     ]
    }
   ],
   "source": [
    "var x = 0;\n",
    "var y = 0;\n",
    "\n",
    "labelCancelaLaco: while(true){\n",
    "    console.log('Laço Exterior:' + x);\n",
    "    x += 1;\n",
    "    y = 1;\n",
    "    \n",
    "    while(true) {\n",
    "        console.log('Laço Interior:' + y);\n",
    "        y += 1;\n",
    "        if (y === 10 && x === 10) {\n",
    "            break labelCancelaLaco;\n",
    "        } else if(y === 10){\n",
    "            break;\n",
    "        }\n",
    "    }\n",
    "}"
   ]
  }
 ],
 "metadata": {
  "kernelspec": {
   "display_name": "Javascript (Node.js)",
   "language": "javascript",
   "name": "javascript"
  },
  "language_info": {
   "file_extension": ".js",
   "mimetype": "application/javascript",
   "name": "javascript",
   "version": "10.13.0"
  }
 },
 "nbformat": 4,
 "nbformat_minor": 2
}
