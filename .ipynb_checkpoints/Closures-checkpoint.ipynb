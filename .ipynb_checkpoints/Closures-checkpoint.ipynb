{
 "cells": [
  {
   "cell_type": "markdown",
   "metadata": {},
   "source": [
    "# Conflito de nomes"
   ]
  },
  {
   "cell_type": "code",
   "execution_count": 17,
   "metadata": {},
   "outputs": [
    {
     "data": {
      "text/plain": [
       "20"
      ]
     },
     "execution_count": 17,
     "metadata": {},
     "output_type": "execute_result"
    }
   ],
   "source": [
    "function fora() {\n",
    "    var x = 10;\n",
    "    function dentro(x) { // a função mais interna prevalece\n",
    "        return x;\n",
    "    }\n",
    "    return dentro;\n",
    "}\n",
    "result = fora() (20); // Retorna20 em vez de 10"
   ]
  },
  {
   "cell_type": "markdown",
   "metadata": {},
   "source": [
    "# Closures"
   ]
  },
  {
   "cell_type": "code",
   "execution_count": 21,
   "metadata": {},
   "outputs": [
    {
     "data": {
      "text/plain": [
       "'Vivie'"
      ]
     },
     "execution_count": 21,
     "metadata": {},
     "output_type": "execute_result"
    }
   ],
   "source": [
    "var pet = function(nome) {       // A função externa define uma variável 'nome'\n",
    "    var getNome = function() {\n",
    "        return nome;              // A Função interna tem acesso  a variável 'nome'da função externa\n",
    "    }\n",
    "    return getNome;                \n",
    "}\n",
    "myPet = pet('Vivie')               // Retorna a função interna expondo=a assim para escopos externos\n",
    "\n",
    "myPet();                            // Terorna 'Vivie'"
   ]
  },
  {
   "cell_type": "code",
   "execution_count": 26,
   "metadata": {},
   "outputs": [
    {
     "name": "stdout",
     "output_type": "stream",
     "text": [
      "7\n",
      "12\n"
     ]
    }
   ],
   "source": [
    "function makeAdder(x) {\n",
    "  return function(y) {\n",
    "    return x + y;\n",
    "  };\n",
    "}\n",
    "\n",
    "var add5 = makeAdder(5);\n",
    "var add10 = makeAdder(10);\n",
    "\n",
    "console.log(add5(2));  // 7\n",
    "console.log(add10(2)); // 12"
   ]
  }
 ],
 "metadata": {
  "kernelspec": {
   "display_name": "Javascript (Node.js)",
   "language": "javascript",
   "name": "javascript"
  },
  "language_info": {
   "file_extension": ".js",
   "mimetype": "application/javascript",
   "name": "javascript",
   "version": "10.13.0"
  }
 },
 "nbformat": 4,
 "nbformat_minor": 2
}
