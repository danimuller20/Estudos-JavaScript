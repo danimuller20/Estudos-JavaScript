{
 "cells": [
  {
   "cell_type": "code",
   "execution_count": 7,
   "metadata": {},
   "outputs": [
    {
     "name": "stdout",
     "output_type": "stream",
     "text": [
      "B é maior\n"
     ]
    }
   ],
   "source": [
    "var a = 10;\n",
    "var b = 20;\n",
    "\t\t/*\n",
    "\t\t\t> maior\n",
    "\t\t\t= maior ou igual\n",
    "\t\t\t<= menor ou igual\n",
    "\t\t\t== igualdade de valores\n",
    "\t\t\t=== igualdade de valores e tipo\n",
    "\t\t\t!= diferente\n",
    "\t\t*/\n",
    "if (a > b) {\n",
    "    console.log('A é maior');\n",
    "}else if (b > a){\n",
    "    console.log('B é maior');\n",
    "}else {\n",
    "    console.log('Eles são iguais');\n",
    "}\n"
   ]
  },
  {
   "cell_type": "code",
   "execution_count": 10,
   "metadata": {},
   "outputs": [
    {
     "name": "stdout",
     "output_type": "stream",
     "text": [
      "Diferente\n"
     ]
    }
   ],
   "source": [
    "var x = '2';\n",
    "var y = 2;\n",
    "\n",
    "if(x === y) {\n",
    "/*(alert) para HTML - cria um alerta na pagina web*/ console.log ('Igual');\n",
    "}else {\n",
    " /*(alert) para HTML cria um alerta na página web*/ console.log('Diferente');\n",
    "}"
   ]
  },
  {
   "cell_type": "code",
   "execution_count": null,
   "metadata": {},
   "outputs": [],
   "source": []
  }
 ],
 "metadata": {
  "kernelspec": {
   "display_name": "Javascript (Node.js)",
   "language": "javascript",
   "name": "javascript"
  },
  "language_info": {
   "file_extension": ".js",
   "mimetype": "application/javascript",
   "name": "javascript",
   "version": "10.13.0"
  }
 },
 "nbformat": 4,
 "nbformat_minor": 2
}
